{
 "cells": [
  {
   "cell_type": "code",
   "execution_count": 2,
   "metadata": {},
   "outputs": [],
   "source": [
    "from sklearn import datasets\n",
    "import numpy as np\n",
    "import pandas as pd"
   ]
  },
  {
   "cell_type": "code",
   "execution_count": 3,
   "metadata": {},
   "outputs": [
    {
     "name": "stdout",
     "output_type": "stream",
     "text": [
      "data\n",
      "target\n",
      "frame\n",
      "target_names\n",
      "DESCR\n",
      "feature_names\n",
      "filename\n"
     ]
    }
   ],
   "source": [
    "iris = datasets.load_iris()\n",
    "for keys in iris.keys():\n",
    "    print(keys)"
   ]
  },
  {
   "cell_type": "code",
   "execution_count": 4,
   "metadata": {},
   "outputs": [
    {
     "name": "stdout",
     "output_type": "stream",
     "text": [
      "<class 'numpy.ndarray'>\n",
      "<class 'numpy.ndarray'>\n"
     ]
    }
   ],
   "source": [
    "X = iris.data\n",
    "Y = iris.target\n",
    "print(type(X))\n",
    "print(type(Y))\n"
   ]
  },
  {
   "cell_type": "code",
   "execution_count": 5,
   "metadata": {},
   "outputs": [
    {
     "name": "stdout",
     "output_type": "stream",
     "text": [
      "3 1.2\n",
      "1 2.33\n",
      "2 3.33\n"
     ]
    }
   ],
   "source": [
    "dic = {}\n",
    "dic[1] = 2.33\n",
    "dic[2] = 3.33\n",
    "dic[3] = 1.2\n",
    "\n",
    "def fun(k,v):\n",
    "    return v,k\n",
    "\n",
    "for key,value in sorted(dic.items(), key=lambda x:x[1]):\n",
    "    print (key,value)"
   ]
  },
  {
   "cell_type": "code",
   "execution_count": 6,
   "metadata": {},
   "outputs": [],
   "source": [
    "def XY_Train_Test(X,Y,training_probabilty,random=True):\n",
    "    no_of_columns = np.shape(X)[1]\n",
    "    no_of_rows = np.shape(X)[0]\n",
    "    traning_data_size =int(no_of_rows*training_probabilty)\n",
    "    temp = np.arange(0,no_of_rows)\n",
    "    X_Train,Y_Train = np.zeros((traning_data_size,no_of_columns)),np.zeros(traning_data_size,dtype = int)\n",
    "    X_Test,Y_Test = np.zeros((no_of_rows-traning_data_size,no_of_columns)),np.zeros(no_of_rows-traning_data_size,dtype = int)\n",
    "    if(random):\n",
    "        np.random.shuffle(temp)\n",
    "    X_Train[0:traning_data_size] = X[temp[0:traning_data_size],]\n",
    "    X_Test[0:no_of_rows-traning_data_size] = X[temp[traning_data_size:no_of_rows],]\n",
    "    Y_Train[0:traning_data_size] = Y[temp[0:traning_data_size]]\n",
    "    Y_Test[0:no_of_rows-traning_data_size] = Y[temp[traning_data_size:no_of_rows]]\n",
    "    return X_Train,Y_Train,X_Test,Y_Test"
   ]
  },
  {
   "cell_type": "code",
   "execution_count": 7,
   "metadata": {},
   "outputs": [
    {
     "name": "stdout",
     "output_type": "stream",
     "text": [
      "[[6.4 3.2 4.5 1.5]\n",
      " [7.7 3.  6.1 2.3]\n",
      " [5.  2.  3.5 1. ]\n",
      " [6.4 2.9 4.3 1.3]\n",
      " [6.7 3.1 4.4 1.4]\n",
      " [6.9 3.1 5.4 2.1]\n",
      " [5.2 2.7 3.9 1.4]\n",
      " [6.  2.2 5.  1.5]\n",
      " [4.9 3.1 1.5 0.1]\n",
      " [5.7 2.9 4.2 1.3]\n",
      " [5.  3.  1.6 0.2]\n",
      " [6.3 3.3 6.  2.5]\n",
      " [5.7 2.8 4.1 1.3]\n",
      " [7.2 3.2 6.  1.8]\n",
      " [7.7 3.8 6.7 2.2]\n",
      " [4.7 3.2 1.6 0.2]\n",
      " [5.4 3.9 1.3 0.4]\n",
      " [5.1 3.8 1.5 0.3]\n",
      " [5.8 2.7 3.9 1.2]\n",
      " [6.6 2.9 4.6 1.3]\n",
      " [5.6 2.5 3.9 1.1]\n",
      " [5.  3.4 1.5 0.2]\n",
      " [5.1 2.5 3.  1.1]\n",
      " [4.8 3.  1.4 0.3]\n",
      " [5.4 3.4 1.5 0.4]\n",
      " [6.2 3.4 5.4 2.3]\n",
      " [5.6 3.  4.5 1.5]\n",
      " [6.2 2.9 4.3 1.3]\n",
      " [6.1 2.6 5.6 1.4]\n",
      " [5.9 3.2 4.8 1.8]\n",
      " [6.7 3.1 4.7 1.5]\n",
      " [7.  3.2 4.7 1.4]\n",
      " [6.5 3.  5.2 2. ]\n",
      " [4.6 3.2 1.4 0.2]\n",
      " [6.4 2.8 5.6 2.2]\n",
      " [6.9 3.1 5.1 2.3]\n",
      " [6.3 2.3 4.4 1.3]\n",
      " [6.  2.9 4.5 1.5]\n",
      " [5.  3.3 1.4 0.2]\n",
      " [6.8 3.2 5.9 2.3]\n",
      " [4.8 3.4 1.6 0.2]\n",
      " [5.  2.3 3.3 1. ]\n",
      " [5.6 2.9 3.6 1.3]\n",
      " [6.1 2.8 4.  1.3]\n",
      " [4.9 2.4 3.3 1. ]\n",
      " [7.7 2.8 6.7 2. ]\n",
      " [5.7 2.8 4.5 1.3]\n",
      " [5.1 3.7 1.5 0.4]\n",
      " [4.9 2.5 4.5 1.7]\n",
      " [4.7 3.2 1.3 0.2]\n",
      " [6.7 3.  5.  1.7]\n",
      " [4.8 3.1 1.6 0.2]\n",
      " [5.5 2.4 3.7 1. ]\n",
      " [6.8 2.8 4.8 1.4]\n",
      " [5.4 3.9 1.7 0.4]\n",
      " [7.9 3.8 6.4 2. ]\n",
      " [5.7 3.  4.2 1.2]\n",
      " [7.1 3.  5.9 2.1]\n",
      " [5.1 3.8 1.9 0.4]\n",
      " [7.2 3.  5.8 1.6]\n",
      " [6.1 3.  4.9 1.8]\n",
      " [5.1 3.8 1.6 0.2]\n",
      " [5.  3.5 1.3 0.3]\n",
      " [7.3 2.9 6.3 1.8]\n",
      " [5.9 3.  4.2 1.5]\n",
      " [5.8 4.  1.2 0.2]\n",
      " [5.  3.6 1.4 0.2]\n",
      " [6.9 3.1 4.9 1.5]\n",
      " [6.7 3.1 5.6 2.4]\n",
      " [4.9 3.  1.4 0.2]\n",
      " [6.5 3.2 5.1 2. ]\n",
      " [6.4 3.2 5.3 2.3]\n",
      " [4.9 3.6 1.4 0.1]\n",
      " [6.2 2.2 4.5 1.5]\n",
      " [4.4 2.9 1.4 0.2]\n",
      " [5.5 3.5 1.3 0.2]\n",
      " [5.5 2.5 4.  1.3]\n",
      " [6.3 3.3 4.7 1.6]\n",
      " [5.6 2.7 4.2 1.3]\n",
      " [5.8 2.7 5.1 1.9]\n",
      " [6.7 3.3 5.7 2.5]\n",
      " [5.5 2.4 3.8 1.1]\n",
      " [5.1 3.5 1.4 0.2]\n",
      " [4.5 2.3 1.3 0.3]\n",
      " [5.3 3.7 1.5 0.2]\n",
      " [5.6 3.  4.1 1.3]\n",
      " [5.9 3.  5.1 1.8]\n",
      " [5.8 2.8 5.1 2.4]\n",
      " [6.5 3.  5.8 2.2]\n",
      " [7.4 2.8 6.1 1.9]\n",
      " [5.  3.5 1.6 0.6]\n",
      " [6.3 2.5 4.9 1.5]\n",
      " [6.3 2.7 4.9 1.8]\n",
      " [5.7 2.5 5.  2. ]\n",
      " [6.4 3.1 5.5 1.8]\n",
      " [5.2 4.1 1.5 0.1]\n",
      " [4.8 3.  1.4 0.1]\n",
      " [6.3 2.9 5.6 1.8]\n",
      " [4.3 3.  1.1 0.1]\n",
      " [6.1 2.9 4.7 1.4]] [1 2 1 1 1 2 1 2 0 1 0 2 1 2 2 0 0 0 1 1 1 0 1 0 0 2 1 1 2 1 1 1 2 0 2 2 1\n",
      " 1 0 2 0 1 1 1 1 2 1 0 2 0 1 0 1 1 0 2 1 2 0 2 2 0 0 2 1 0 0 1 2 0 2 2 0 1\n",
      " 0 0 1 1 1 2 2 1 0 0 0 1 2 2 2 2 0 1 2 2 2 0 0 2 0 1] [[5.  3.4 1.6 0.4]\n",
      " [6.4 2.7 5.3 1.9]\n",
      " [5.8 2.7 4.1 1. ]\n",
      " [6.5 3.  5.5 1.8]\n",
      " [5.7 2.6 3.5 1. ]\n",
      " [5.8 2.6 4.  1.2]\n",
      " [6.3 3.4 5.6 2.4]\n",
      " [6.1 3.  4.6 1.4]\n",
      " [6.  3.  4.8 1.8]\n",
      " [5.4 3.7 1.5 0.2]\n",
      " [5.  3.2 1.2 0.2]\n",
      " [4.6 3.6 1.  0.2]\n",
      " [4.9 3.1 1.5 0.2]\n",
      " [6.9 3.2 5.7 2.3]\n",
      " [6.8 3.  5.5 2.1]\n",
      " [5.7 4.4 1.5 0.4]\n",
      " [5.7 3.8 1.7 0.3]\n",
      " [6.  2.7 5.1 1.6]\n",
      " [6.  2.2 4.  1. ]\n",
      " [5.8 2.7 5.1 1.9]\n",
      " [7.7 2.6 6.9 2.3]\n",
      " [6.1 2.8 4.7 1.2]\n",
      " [5.4 3.4 1.7 0.2]\n",
      " [5.4 3.  4.5 1.5]\n",
      " [6.  3.4 4.5 1.6]\n",
      " [5.1 3.3 1.7 0.5]\n",
      " [6.7 3.3 5.7 2.1]\n",
      " [7.6 3.  6.6 2.1]\n",
      " [7.2 3.6 6.1 2.5]\n",
      " [5.5 2.3 4.  1.3]\n",
      " [6.4 2.8 5.6 2.1]\n",
      " [4.8 3.4 1.9 0.2]\n",
      " [5.2 3.4 1.4 0.2]\n",
      " [6.3 2.8 5.1 1.5]\n",
      " [5.5 2.6 4.4 1.2]\n",
      " [4.4 3.2 1.3 0.2]\n",
      " [5.6 2.8 4.9 2. ]\n",
      " [6.6 3.  4.4 1.4]\n",
      " [4.6 3.1 1.5 0.2]\n",
      " [4.4 3.  1.3 0.2]\n",
      " [5.2 3.5 1.5 0.2]\n",
      " [6.5 2.8 4.6 1.5]\n",
      " [6.3 2.5 5.  1.9]\n",
      " [4.6 3.4 1.4 0.3]\n",
      " [6.7 2.5 5.8 1.8]\n",
      " [5.5 4.2 1.4 0.2]\n",
      " [6.2 2.8 4.8 1.8]\n",
      " [5.1 3.4 1.5 0.2]\n",
      " [5.1 3.5 1.4 0.3]\n",
      " [6.7 3.  5.2 2.3]] [0 2 1 2 1 1 2 1 2 0 0 0 0 2 2 0 0 1 1 2 2 1 0 1 1 0 2 2 2 1 2 0 0 2 1 0 2\n",
      " 1 0 0 0 1 2 0 2 0 2 0 0 2]\n"
     ]
    }
   ],
   "source": [
    "#X_train,Y_train = X[4::5,:], Y[4::5,]\n",
    "X_Train,Y_Train,X_Test,Y_Test = XY_Train_Test(X,Y,0.67,True)\n",
    "\n",
    "print (X_Train,Y_Train,X_Test,Y_Test)"
   ]
  },
  {
   "cell_type": "code",
   "execution_count": 8,
   "metadata": {},
   "outputs": [
    {
     "name": "stdout",
     "output_type": "stream",
     "text": [
      "(100, 4)\n",
      "(100,)\n"
     ]
    }
   ],
   "source": [
    "print(np.shape(X_Train))\n",
    "print(np.shape(Y_Train))"
   ]
  },
  {
   "cell_type": "code",
   "execution_count": 9,
   "metadata": {},
   "outputs": [
    {
     "data": {
      "text/plain": [
       "array([[6.4, 3.2, 4.5, 1.5],\n",
       "       [7.7, 3. , 6.1, 2.3],\n",
       "       [5. , 2. , 3.5, 1. ],\n",
       "       [6.4, 2.9, 4.3, 1.3],\n",
       "       [6.7, 3.1, 4.4, 1.4],\n",
       "       [6.9, 3.1, 5.4, 2.1],\n",
       "       [5.2, 2.7, 3.9, 1.4],\n",
       "       [6. , 2.2, 5. , 1.5],\n",
       "       [4.9, 3.1, 1.5, 0.1],\n",
       "       [5.7, 2.9, 4.2, 1.3],\n",
       "       [5. , 3. , 1.6, 0.2],\n",
       "       [6.3, 3.3, 6. , 2.5],\n",
       "       [5.7, 2.8, 4.1, 1.3],\n",
       "       [7.2, 3.2, 6. , 1.8],\n",
       "       [7.7, 3.8, 6.7, 2.2],\n",
       "       [4.7, 3.2, 1.6, 0.2],\n",
       "       [5.4, 3.9, 1.3, 0.4],\n",
       "       [5.1, 3.8, 1.5, 0.3],\n",
       "       [5.8, 2.7, 3.9, 1.2],\n",
       "       [6.6, 2.9, 4.6, 1.3],\n",
       "       [5.6, 2.5, 3.9, 1.1],\n",
       "       [5. , 3.4, 1.5, 0.2],\n",
       "       [5.1, 2.5, 3. , 1.1],\n",
       "       [4.8, 3. , 1.4, 0.3],\n",
       "       [5.4, 3.4, 1.5, 0.4],\n",
       "       [6.2, 3.4, 5.4, 2.3],\n",
       "       [5.6, 3. , 4.5, 1.5],\n",
       "       [6.2, 2.9, 4.3, 1.3],\n",
       "       [6.1, 2.6, 5.6, 1.4],\n",
       "       [5.9, 3.2, 4.8, 1.8],\n",
       "       [6.7, 3.1, 4.7, 1.5],\n",
       "       [7. , 3.2, 4.7, 1.4],\n",
       "       [6.5, 3. , 5.2, 2. ],\n",
       "       [4.6, 3.2, 1.4, 0.2],\n",
       "       [6.4, 2.8, 5.6, 2.2],\n",
       "       [6.9, 3.1, 5.1, 2.3],\n",
       "       [6.3, 2.3, 4.4, 1.3],\n",
       "       [6. , 2.9, 4.5, 1.5],\n",
       "       [5. , 3.3, 1.4, 0.2],\n",
       "       [6.8, 3.2, 5.9, 2.3],\n",
       "       [4.8, 3.4, 1.6, 0.2],\n",
       "       [5. , 2.3, 3.3, 1. ],\n",
       "       [5.6, 2.9, 3.6, 1.3],\n",
       "       [6.1, 2.8, 4. , 1.3],\n",
       "       [4.9, 2.4, 3.3, 1. ],\n",
       "       [7.7, 2.8, 6.7, 2. ],\n",
       "       [5.7, 2.8, 4.5, 1.3],\n",
       "       [5.1, 3.7, 1.5, 0.4],\n",
       "       [4.9, 2.5, 4.5, 1.7],\n",
       "       [4.7, 3.2, 1.3, 0.2],\n",
       "       [6.7, 3. , 5. , 1.7],\n",
       "       [4.8, 3.1, 1.6, 0.2],\n",
       "       [5.5, 2.4, 3.7, 1. ],\n",
       "       [6.8, 2.8, 4.8, 1.4],\n",
       "       [5.4, 3.9, 1.7, 0.4],\n",
       "       [7.9, 3.8, 6.4, 2. ],\n",
       "       [5.7, 3. , 4.2, 1.2],\n",
       "       [7.1, 3. , 5.9, 2.1],\n",
       "       [5.1, 3.8, 1.9, 0.4],\n",
       "       [7.2, 3. , 5.8, 1.6],\n",
       "       [6.1, 3. , 4.9, 1.8],\n",
       "       [5.1, 3.8, 1.6, 0.2],\n",
       "       [5. , 3.5, 1.3, 0.3],\n",
       "       [7.3, 2.9, 6.3, 1.8],\n",
       "       [5.9, 3. , 4.2, 1.5],\n",
       "       [5.8, 4. , 1.2, 0.2],\n",
       "       [5. , 3.6, 1.4, 0.2],\n",
       "       [6.9, 3.1, 4.9, 1.5],\n",
       "       [6.7, 3.1, 5.6, 2.4],\n",
       "       [4.9, 3. , 1.4, 0.2],\n",
       "       [6.5, 3.2, 5.1, 2. ],\n",
       "       [6.4, 3.2, 5.3, 2.3],\n",
       "       [4.9, 3.6, 1.4, 0.1],\n",
       "       [6.2, 2.2, 4.5, 1.5],\n",
       "       [4.4, 2.9, 1.4, 0.2],\n",
       "       [5.5, 3.5, 1.3, 0.2],\n",
       "       [5.5, 2.5, 4. , 1.3],\n",
       "       [6.3, 3.3, 4.7, 1.6],\n",
       "       [5.6, 2.7, 4.2, 1.3],\n",
       "       [5.8, 2.7, 5.1, 1.9],\n",
       "       [6.7, 3.3, 5.7, 2.5],\n",
       "       [5.5, 2.4, 3.8, 1.1],\n",
       "       [5.1, 3.5, 1.4, 0.2],\n",
       "       [4.5, 2.3, 1.3, 0.3],\n",
       "       [5.3, 3.7, 1.5, 0.2],\n",
       "       [5.6, 3. , 4.1, 1.3],\n",
       "       [5.9, 3. , 5.1, 1.8],\n",
       "       [5.8, 2.8, 5.1, 2.4],\n",
       "       [6.5, 3. , 5.8, 2.2],\n",
       "       [7.4, 2.8, 6.1, 1.9],\n",
       "       [5. , 3.5, 1.6, 0.6],\n",
       "       [6.3, 2.5, 4.9, 1.5],\n",
       "       [6.3, 2.7, 4.9, 1.8],\n",
       "       [5.7, 2.5, 5. , 2. ],\n",
       "       [6.4, 3.1, 5.5, 1.8],\n",
       "       [5.2, 4.1, 1.5, 0.1],\n",
       "       [4.8, 3. , 1.4, 0.1],\n",
       "       [6.3, 2.9, 5.6, 1.8],\n",
       "       [4.3, 3. , 1.1, 0.1],\n",
       "       [6.1, 2.9, 4.7, 1.4]])"
      ]
     },
     "execution_count": 9,
     "metadata": {},
     "output_type": "execute_result"
    }
   ],
   "source": [
    "X_Train"
   ]
  },
  {
   "cell_type": "code",
   "execution_count": 10,
   "metadata": {},
   "outputs": [
    {
     "data": {
      "text/plain": [
       "array([1, 2, 1, 1, 1, 2, 1, 2, 0, 1, 0, 2, 1, 2, 2, 0, 0, 0, 1, 1, 1, 0,\n",
       "       1, 0, 0, 2, 1, 1, 2, 1, 1, 1, 2, 0, 2, 2, 1, 1, 0, 2, 0, 1, 1, 1,\n",
       "       1, 2, 1, 0, 2, 0, 1, 0, 1, 1, 0, 2, 1, 2, 0, 2, 2, 0, 0, 2, 1, 0,\n",
       "       0, 1, 2, 0, 2, 2, 0, 1, 0, 0, 1, 1, 1, 2, 2, 1, 0, 0, 0, 1, 2, 2,\n",
       "       2, 2, 0, 1, 2, 2, 2, 0, 0, 2, 0, 1])"
      ]
     },
     "execution_count": 10,
     "metadata": {},
     "output_type": "execute_result"
    }
   ],
   "source": [
    "Y_Train"
   ]
  },
  {
   "cell_type": "code",
   "execution_count": 11,
   "metadata": {},
   "outputs": [],
   "source": [
    "%matplotlib inline\n",
    "import matplotlib.pyplot as plt\n"
   ]
  },
  {
   "cell_type": "code",
   "execution_count": 12,
   "metadata": {},
   "outputs": [],
   "source": [
    "def plotBarChart(xaxis,yaxis,title):\n",
    "    ''' xaxis is list of values along x-axis\n",
    "        yaxis is list of values along y-axis'''\n",
    "    \n",
    "    \n",
    "    plt.bar(xaxis, yaxis, align='center', alpha=0.8,color=[ 'red'])\n",
    "    plt.xticks(xaxis, xaxis)\n",
    "    \n",
    "    plt.ylabel('Accuracy')\n",
    "    plt.title(title)\n",
    "    plt.xlabel('k')\n",
    "    for i, v in enumerate(yaxis):\n",
    "        plt.text(xaxis[i] - 0.25, v + 0.01, str(v))\n",
    "    plt.show()"
   ]
  },
  {
   "cell_type": "code",
   "execution_count": 13,
   "metadata": {},
   "outputs": [
    {
     "data": {
      "text/plain": [
       "<matplotlib.collections.PathCollection at 0x7fa232257cd0>"
      ]
     },
     "execution_count": 13,
     "metadata": {},
     "output_type": "execute_result"
    },
    {
     "data": {
      "image/png": "[encoded data removed]",
      "text/plain": [
       "<Figure size 864x576 with 1 Axes>"
      ]
     },
     "metadata": {
      "needs_background": "light"
     },
     "output_type": "display_data"
    }
   ],
   "source": [
    "fig, ax = plt.subplots(figsize=(12,8))\n",
    "ax.scatter(X[0:50,0], X[0:50,1], color='r', label='Cluster 1')\n",
    "ax.scatter(X[50:100,0:1], X[50:100,1], color='g', label='Cluster 1')\n",
    "ax.scatter(X[100:150,0:1], X[100:150,1], color='b', label='Cluster 1')\n"
   ]
  },
  {
   "cell_type": "code",
   "execution_count": 14,
   "metadata": {},
   "outputs": [],
   "source": [
    "import math\n",
    "def calculateDistance(point1,point2):\n",
    "    distance = 0\n",
    "    for x,y in zip(point1,point2):\n",
    "        distance += (x-y)**2\n",
    "    distance = math.sqrt(distance)\n",
    "    return distance"
   ]
  },
  {
   "cell_type": "code",
   "execution_count": 15,
   "metadata": {},
   "outputs": [
    {
     "name": "stdout",
     "output_type": "stream",
     "text": [
      "0.0\n"
     ]
    }
   ],
   "source": [
    "point1 = X_Train[0,]\n",
    "for point2 in X_Train:\n",
    "    print(calculateDistance(point1,point2))\n",
    "    break"
   ]
  },
  {
   "cell_type": "code",
   "execution_count": 16,
   "metadata": {},
   "outputs": [],
   "source": [
    "def get_max_value_count(arr):\n",
    "    _max = max(arr)\n",
    "    count = 0\n",
    "    for i in arr:\n",
    "        if(i==_max):\n",
    "            count+=1\n",
    "    return _max,count"
   ]
  },
  {
   "cell_type": "code",
   "execution_count": 17,
   "metadata": {},
   "outputs": [],
   "source": [
    "def run_KNN(X_Train,Y_Train,X_Test,k):\n",
    "    '''Function run KNN on given X_Test Data Using given X_Train,Y_Train data and \n",
    "       return label assigned to X_Test\n",
    "       k: is no of neighbours to choose'''\n",
    "    no_of_test_rows = np.shape(X_Test)[0]\n",
    "    no_of_train_rows = np.shape(X_Train)[0]\n",
    "    \n",
    "\n",
    "    \n",
    "    X_new_Label = np.zeros(np.shape(X_Test)[0],dtype = int) #X_new_Label[i]:new label of ith X_Test data point\n",
    "    for i in range(0,no_of_test_rows):\n",
    "        distance = {} #key is index of\n",
    "        for j in range(0,no_of_train_rows):\n",
    "            distance[j] = calculateDistance(X_Test[i,],X_Train[j,]) #tak distance from of every ith data point to every jth data\n",
    "                                                                    #point\n",
    "        distance = sorted(distance.items(), key=lambda x:x[1])[:k] #sort distance on basis of distance and extract first k distance\n",
    "        \n",
    "        x=[]\n",
    "        #print(np.shape(distance))\n",
    "        for a,b in distance:\n",
    "            x.append(Y_Train[a])\n",
    "            #print(Y_Train[a])\n",
    "        X_new_Label[i]=max(x,key=x.count)\n",
    "    return X_new_Label"
   ]
  },
  {
   "cell_type": "code",
   "execution_count": 18,
   "metadata": {},
   "outputs": [],
   "source": [
    "def calculate_accuracy(Y_old,Y_new):\n",
    "    count=0\n",
    "    for old,new in zip(Y_old,Y_new):\n",
    "        if(old==new):\n",
    "            count+=1\n",
    "    return count/np.size(Y_old)*100"
   ]
  },
  {
   "cell_type": "code",
   "execution_count": 19,
   "metadata": {},
   "outputs": [
    {
     "data": {
      "image/png": "[encoded data removed]",
      "text/plain": [
       "<Figure size 432x288 with 1 Axes>"
      ]
     },
     "metadata": {
      "needs_background": "light"
     },
     "output_type": "display_data"
    }
   ],
   "source": [
    "performace = np.zeros(10)\n",
    "for i in range(1,11):\n",
    "    \n",
    "    performace[i-1] = calculate_accuracy(run_KNN(X_Train,Y_Train,X_Test,5),Y_Test)\n",
    "plotBarChart(range(1,11),performace,\"KNN Performance\")\n"
   ]
  },
  {
   "cell_type": "code",
   "execution_count": 20,
   "metadata": {},
   "outputs": [],
   "source": [
    "X_Train_N =  (X_Train-np.mean(X_Train,axis=0))/np.std(X_Train,axis=0)\n",
    "X_Test_N = (X_Test-np.mean(X_Test,axis=0))/np.std(X_Test,axis=0)\n"
   ]
  },
  {
   "cell_type": "code",
   "execution_count": 21,
   "metadata": {},
   "outputs": [
    {
     "data": {
      "image/png": "[encoded data removed]",
      "text/plain": [
       "<Figure size 432x288 with 1 Axes>"
      ]
     },
     "metadata": {
      "needs_background": "light"
     },
     "output_type": "display_data"
    }
   ],
   "source": [
    "performace = np.zeros(10)\n",
    "for i in range(1,10+1):\n",
    "    performace[i-1] = calculate_accuracy(run_KNN(X_Train_N,Y_Train,X_Test_N,i),Y_Test)\n",
    "plotBarChart(range(1,11),performace,\"KNN Performance(Strandrized)\")"
   ]
  },
  {
   "cell_type": "code",
   "execution_count": 22,
   "metadata": {},
   "outputs": [],
   "source": [
    "X_Train_S = (X_Train-np.min(X_Train,axis=0))/(np.max(X_Train,axis=0)-np.min(X_Train,axis=0))\n",
    "X_Test_S = (X_Test-np.min(X_Test,axis=0))/(np.max(X_Test,axis=0)-np.min(X_Test,axis=0))"
   ]
  },
  {
   "cell_type": "code",
   "execution_count": 23,
   "metadata": {},
   "outputs": [
    {
     "data": {
      "image/png": "[encoded data removed]",
      "text/plain": [
       "<Figure size 432x288 with 1 Axes>"
      ]
     },
     "metadata": {
      "needs_background": "light"
     },
     "output_type": "display_data"
    }
   ],
   "source": [
    "performance = np.zeros(10)\n",
    "for i in range(1,10+1):\n",
    "    performance[i-1] =  calculate_accuracy(run_KNN(X_Train_S,Y_Train,X_Test_S,i),Y_Test)\n",
    "plotBarChart(range(1,11),performance,\"KNN Performance(Normalized)\")"
   ]
  },
  {
   "cell_type": "code",
   "execution_count": null,
   "metadata": {},
   "outputs": [],
   "source": []
  }
 ],
 "metadata": {
  "kernelspec": {
   "display_name": "Python 3",
   "language": "python",
   "name": "python3"
  },
  "language_info": {
   "codemirror_mode": {
    "name": "ipython",
    "version": 3
   },
   "file_extension": ".py",
   "mimetype": "text/x-python",
   "name": "python",
   "nbconvert_exporter": "python",
   "pygments_lexer": "ipython3",
   "version": "3.8.3"
  }
 },
 "nbformat": 4,
 "nbformat_minor": 2
}
